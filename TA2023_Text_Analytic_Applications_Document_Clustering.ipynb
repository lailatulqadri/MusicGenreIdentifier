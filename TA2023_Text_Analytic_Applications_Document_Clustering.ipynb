{
  "cells": [
    {
      "cell_type": "markdown",
      "metadata": {
        "id": "view-in-github",
        "colab_type": "text"
      },
      "source": [
        "<a href=\"https://colab.research.google.com/github/lailatulqadri/MusicGenreIdentifier/blob/main/TA2023_Text_Analytic_Applications_Document_Clustering.ipynb\" target=\"_parent\"><img src=\"https://colab.research.google.com/assets/colab-badge.svg\" alt=\"Open In Colab\"/></a>"
      ]
    },
    {
      "cell_type": "markdown",
      "source": [
        "We will use nltk toolkit to assist text cleaning."
      ],
      "metadata": {
        "id": "EtUrYDSA97iE"
      }
    },
    {
      "cell_type": "code",
      "execution_count": 49,
      "metadata": {
        "colab": {
          "base_uri": "https://localhost:8080/"
        },
        "id": "7Y0YOSUpUmFa",
        "outputId": "e934ca40-ef2d-4b4c-e7f3-e5b33decacef"
      },
      "outputs": [
        {
          "output_type": "stream",
          "name": "stderr",
          "text": [
            "[nltk_data] Downloading package stopwords to /root/nltk_data...\n",
            "[nltk_data]   Package stopwords is already up-to-date!\n",
            "[nltk_data] Downloading package wordnet to /root/nltk_data...\n",
            "[nltk_data]   Package wordnet is already up-to-date!\n"
          ]
        },
        {
          "output_type": "execute_result",
          "data": {
            "text/plain": [
              "True"
            ]
          },
          "metadata": {},
          "execution_count": 49
        }
      ],
      "source": [
        "#To import and download nltk\n",
        "import nltk\n",
        "nltk.download('stopwords')\n",
        "nltk.download('wordnet')"
      ]
    },
    {
      "cell_type": "markdown",
      "source": [
        "We use sklearn library for machine learning based analysis. Sklearn support many machine learning approaches such as SVM, nearest neighbour, random forest, k-means and many more. You can find more information about sklearn in this webpage: https://scikit-learn.org/stable/"
      ],
      "metadata": {
        "id": "zfjhyYpv-CV3"
      }
    },
    {
      "cell_type": "code",
      "execution_count": 50,
      "metadata": {
        "id": "sTK9UAzfTtpk"
      },
      "outputs": [],
      "source": [
        "# Importing libraries\n",
        "from sklearn.feature_extraction.text import TfidfVectorizer\n",
        "from sklearn.neighbors import KNeighborsClassifier\n",
        "from sklearn.cluster import KMeans\n",
        "from nltk.corpus import stopwords\n",
        "from nltk.stem.wordnet import WordNetLemmatizer\n",
        "import string\n",
        "import re\n",
        "import numpy as np\n",
        "from collections import Counter\n",
        "\n",
        "stop = set(stopwords.words('english'))\n",
        "exclude = set(string.punctuation)\n",
        "lemma = WordNetLemmatizer()\n",
        "\n"
      ]
    },
    {
      "cell_type": "markdown",
      "source": [
        "Yup, when you work with text, text cleaning is a crucial task! This simple function allows you to clean doc. You can modify this function to fit your text cleaning processes."
      ],
      "metadata": {
        "id": "YuR7JvAR-vCB"
      }
    },
    {
      "cell_type": "code",
      "source": [
        "# Cleaning the text sentences so that punctuation marks, stop words & digits are removed\n",
        "def clean(doc):\n",
        "    stop_free = \" \".join([i for i in doc.lower().split() if i not in stop])\n",
        "    punc_free = ''.join(ch for ch in stop_free if ch not in exclude)\n",
        "    normalized = \" \".join(lemma.lemmatize(word) for word in punc_free.split())\n",
        "    processed = re.sub(r\"\\d+\",\"\",normalized)\n",
        "    y = processed.split()\n",
        "    return y"
      ],
      "metadata": {
        "id": "7q1kRTPg-t5B"
      },
      "execution_count": 51,
      "outputs": []
    },
    {
      "cell_type": "markdown",
      "metadata": {
        "id": "XfAX8iI6UDyY"
      },
      "source": [
        "Document Representations used in this example is Tf-Idf. You already learn this method last 2 weeks.\n",
        "\n",
        "---\n",
        "Term frequency and inverse document frequency (tf-idf) is a word weighing scheme. The tf-idf value increases as the number of times a word appears in a document. So, it helps to reflect the importance of a word in a corpus.\n"
      ]
    },
    {
      "cell_type": "code",
      "execution_count": 52,
      "metadata": {
        "id": "RMJtI2y67qV4"
      },
      "outputs": [],
      "source": [
        "import pandas as pd"
      ]
    },
    {
      "cell_type": "markdown",
      "source": [
        "Describing the information/categories in the dataset. The dataset is not labeled."
      ],
      "metadata": {
        "id": "3NDUo5CZ6BOP"
      }
    },
    {
      "cell_type": "code",
      "source": [
        "print (\"There are 10 sentences of following three classes on which K-NN classification and K-means clustering\"\\\n",
        "         \" is performed : \\n1. Cricket \\n2. Artificial Intelligence \\n3. Chemistry\")\n"
      ],
      "metadata": {
        "colab": {
          "base_uri": "https://localhost:8080/"
        },
        "id": "5A3a4ttA5_p3",
        "outputId": "52eef682-b529-495c-d38d-e37fc07a9555"
      },
      "execution_count": 53,
      "outputs": [
        {
          "output_type": "stream",
          "name": "stdout",
          "text": [
            "There are 10 sentences of following three classes on which K-NN classification and K-means clustering is performed : \n",
            "1. Cricket \n",
            "2. Artificial Intelligence \n",
            "3. Chemistry\n"
          ]
        }
      ]
    },
    {
      "cell_type": "markdown",
      "source": [
        "Let's read our data!"
      ],
      "metadata": {
        "id": "OvNvMaR9_XzN"
      }
    },
    {
      "cell_type": "code",
      "execution_count": 54,
      "metadata": {
        "colab": {
          "base_uri": "https://localhost:8080/"
        },
        "id": "zoIIt7duT83s",
        "outputId": "87864be2-b04f-41cc-8e50-28995edcbdd1"
      },
      "outputs": [
        {
          "output_type": "stream",
          "name": "stdout",
          "text": [
            "Data\n",
            "                                                  Text\n",
            "0   Cricket is a bat and ball game played between ...\n",
            "1   Each phase of play is called an innings during...\n",
            "2   The teams have one or two innings apiece and, ...\n",
            "3   Before a match begins, the two team captains m...\n",
            "4   Two batsmen and eleven fielders then enter the...\n",
            "5    The most common dismissal in cricket match ar...\n",
            "6   Runs are scored by two main methods: either by...\n",
            "7   The main objective of each team is to score mo...\n",
            "8   If the team batting last is all out having sco...\n",
            "9   The role of striker batsman is to prevent the ...\n",
            "10  Artificial intelligence is intelligence exhibi...\n",
            "11  The field of AI research defines itself as the...\n",
            "12  The overall research goal of artificial intell...\n",
            "13  Natural language processing[77] gives machines...\n",
            "14  AI researchers developed sophisticated mathema...\n",
            "15  An intelligent agent is a system that perceive...\n",
            "16  AI techniques have become an essential part of...\n",
            "17  Recent advancements in AI, and specifically in...\n",
            "18  AI research was revived by the commercial succ...\n",
            "19  Advanced statistical techniques (loosely known...\n",
            "20  A compound is a pure chemical substance compos...\n",
            "21  Since the properties of an element are mostly ...\n",
            "22  The property of inertness of noble gases makes...\n",
            "23  The atom is also the smallest entity that can ...\n",
            "24  The nucleus is made up of positively charged p...\n",
            "25  The atom is the basic unit of chemistry. It co...\n",
            "26  A chemical reaction is a transformation of som...\n",
            "27  Chemistry is sometimes called the central scie...\n",
            "28  Chemistry includes topics such as the properti...\n",
            "29  Chemistry is a branch of physical science that...\n"
          ]
        }
      ],
      "source": [
        "# read traning dataset\n",
        "dataset = pd.read_csv('Clustering dataset.csv')\n",
        "print(\"Data\\n\",dataset)\n",
        "\n",
        "train_clean_sentences = []\n"
      ]
    },
    {
      "cell_type": "markdown",
      "source": [
        "Text Preprocessing - for each document in our dataset, we will give it to clean function above. The document can be found in dataset['Text'] <- inside column 'Text'"
      ],
      "metadata": {
        "id": "kLHHGTKs7C5B"
      }
    },
    {
      "cell_type": "code",
      "source": [
        "for line in dataset[\"Text\"]:\n",
        "    line = line.strip()\n",
        "    cleaned = clean(line)\n",
        "    cleaned = ' '.join(cleaned)\n",
        "    train_clean_sentences.append(cleaned)"
      ],
      "metadata": {
        "id": "5MfYgwn16PX6"
      },
      "execution_count": 55,
      "outputs": []
    },
    {
      "cell_type": "markdown",
      "source": [
        "Output after text preprocessing"
      ],
      "metadata": {
        "id": "JRL2KQbe7KTf"
      }
    },
    {
      "cell_type": "code",
      "source": [
        "print(train_clean_sentences)"
      ],
      "metadata": {
        "colab": {
          "base_uri": "https://localhost:8080/"
        },
        "id": "hXbw7YUT6dBC",
        "outputId": "b07a9235-4020-4949-f23f-d783afc89c11"
      },
      "execution_count": 56,
      "outputs": [
        {
          "output_type": "stream",
          "name": "stdout",
          "text": [
            "['cricket bat ball game played two team eleven player cricket field', 'phase play called inning one team bat attempting score many run possible', 'team one two inning apiece and first inning end team swap role next inning', 'match begin two team captain meet pitch toss coin determine team bat first', 'two batsman eleven fielder enter field play begin member fielding team known bowler delivers ball', 'common dismissal cricket match bowled bowler hit stump directly ball dislodges bail batsman get out', 'run scored two main method either hitting ball hard enough cross boundary two batsman swapping end', 'main objective team score run opponent', 'team batting last scored fewer run opponent said lost n run', 'role striker batsman prevent ball hitting stump using bat and simultaneously strike well enough score run', 'artificial intelligence intelligence exhibited machine rather human animal', 'field ai research defines study intelligent agent device perceives environment take action maximize chance success goal', 'overall research goal artificial intelligence create technology allows computer machine function intelligent manner', 'natural language processing give machine ability read understand human language extract intelligence it', 'ai researcher developed sophisticated mathematical tool solve specific subproblems tool truly scientific sense result measurable verifiable', 'intelligent agent system perceives environment take action maximize chance success', 'ai technique become essential part technology industry helping solve many challenging problem computer science', 'recent advancement ai specifically machine learning contributed growth autonomous thing drone selfdriving car', 'ai research revived commercial success expert systems form ai program simulated knowledge analytical skill human expert', 'advanced statistical technique loosely known deep learning access large amount data faster computer enabled advance machine learning perception', 'compound pure chemical substance composed one element property compound bear little similarity element', 'since property element mostly determined electron configuration property element likewise show recurring pattern periodic behaviour', 'property inertness noble gas make suitable chemical reaction wanted', 'atom also smallest entity envisaged retain chemical property element electronegativity ionization potential preferred oxidation state', 'nucleus made positively charged proton uncharged neutron together called nucleon electron cloud consists negatively charged electron orbit nucleus', 'atom basic unit chemistry consists dense core called atomic nucleus surrounded space called electron cloud', 'chemical reaction transformation substance one different substance', 'chemistry sometimes called central science bridge natural science including physic geology biology', 'chemistry includes topic property individual atom atom form chemical bond create chemical compound', 'chemistry branch physical science study composition structure atom property change matter']\n"
          ]
        }
      ]
    },
    {
      "cell_type": "markdown",
      "source": [
        "Text representation by using TFIDF"
      ],
      "metadata": {
        "id": "qCIzka0U7gC_"
      }
    },
    {
      "cell_type": "code",
      "source": [
        "vectorizer = TfidfVectorizer(stop_words='english')\n",
        "X = vectorizer.fit_transform(train_clean_sentences)\n"
      ],
      "metadata": {
        "id": "aNb9BKue5xoH"
      },
      "execution_count": 57,
      "outputs": []
    },
    {
      "cell_type": "markdown",
      "source": [
        "Let's split the data into training our model. For easy understanding, we will label our dataset to 0, 1 & 2."
      ],
      "metadata": {
        "id": "rvYWAbug7qIQ"
      }
    },
    {
      "cell_type": "code",
      "source": [
        "# Creating true labels for 30 training sentences\n",
        "y_train = np.zeros(30)  # label 0\n",
        "y_train[10:20] = 1      # label 1\n",
        "y_train[20:30] = 2      # label 2"
      ],
      "metadata": {
        "id": "SMW1OW0C7o06"
      },
      "execution_count": 58,
      "outputs": []
    },
    {
      "cell_type": "markdown",
      "metadata": {
        "id": "ufBDdNvxT_2h"
      },
      "source": [
        "# 3. Training the Classification (K-NN) & Clustering (K-Means) models.\n",
        "\n",
        "---\n",
        "Output for k-NN classification is category membership. Texts are assigned to class that is most common among their k nearest neighbours.\n",
        "\n",
        "Clustering determines the grouping of a set of data.In K-Means clustering, the 'K' cluster centers are the centroid of data points of a cluster.\n"
      ]
    },
    {
      "cell_type": "code",
      "execution_count": 59,
      "metadata": {
        "colab": {
          "base_uri": "https://localhost:8080/",
          "height": 74
        },
        "id": "dpXow_RXUUi7",
        "outputId": "4f24a8be-5713-45c8-a305-a366f16117aa"
      },
      "outputs": [
        {
          "output_type": "execute_result",
          "data": {
            "text/plain": [
              "KNeighborsClassifier()"
            ],
            "text/html": [
              "<style>#sk-container-id-4 {color: black;background-color: white;}#sk-container-id-4 pre{padding: 0;}#sk-container-id-4 div.sk-toggleable {background-color: white;}#sk-container-id-4 label.sk-toggleable__label {cursor: pointer;display: block;width: 100%;margin-bottom: 0;padding: 0.3em;box-sizing: border-box;text-align: center;}#sk-container-id-4 label.sk-toggleable__label-arrow:before {content: \"▸\";float: left;margin-right: 0.25em;color: #696969;}#sk-container-id-4 label.sk-toggleable__label-arrow:hover:before {color: black;}#sk-container-id-4 div.sk-estimator:hover label.sk-toggleable__label-arrow:before {color: black;}#sk-container-id-4 div.sk-toggleable__content {max-height: 0;max-width: 0;overflow: hidden;text-align: left;background-color: #f0f8ff;}#sk-container-id-4 div.sk-toggleable__content pre {margin: 0.2em;color: black;border-radius: 0.25em;background-color: #f0f8ff;}#sk-container-id-4 input.sk-toggleable__control:checked~div.sk-toggleable__content {max-height: 200px;max-width: 100%;overflow: auto;}#sk-container-id-4 input.sk-toggleable__control:checked~label.sk-toggleable__label-arrow:before {content: \"▾\";}#sk-container-id-4 div.sk-estimator input.sk-toggleable__control:checked~label.sk-toggleable__label {background-color: #d4ebff;}#sk-container-id-4 div.sk-label input.sk-toggleable__control:checked~label.sk-toggleable__label {background-color: #d4ebff;}#sk-container-id-4 input.sk-hidden--visually {border: 0;clip: rect(1px 1px 1px 1px);clip: rect(1px, 1px, 1px, 1px);height: 1px;margin: -1px;overflow: hidden;padding: 0;position: absolute;width: 1px;}#sk-container-id-4 div.sk-estimator {font-family: monospace;background-color: #f0f8ff;border: 1px dotted black;border-radius: 0.25em;box-sizing: border-box;margin-bottom: 0.5em;}#sk-container-id-4 div.sk-estimator:hover {background-color: #d4ebff;}#sk-container-id-4 div.sk-parallel-item::after {content: \"\";width: 100%;border-bottom: 1px solid gray;flex-grow: 1;}#sk-container-id-4 div.sk-label:hover label.sk-toggleable__label {background-color: #d4ebff;}#sk-container-id-4 div.sk-serial::before {content: \"\";position: absolute;border-left: 1px solid gray;box-sizing: border-box;top: 0;bottom: 0;left: 50%;z-index: 0;}#sk-container-id-4 div.sk-serial {display: flex;flex-direction: column;align-items: center;background-color: white;padding-right: 0.2em;padding-left: 0.2em;position: relative;}#sk-container-id-4 div.sk-item {position: relative;z-index: 1;}#sk-container-id-4 div.sk-parallel {display: flex;align-items: stretch;justify-content: center;background-color: white;position: relative;}#sk-container-id-4 div.sk-item::before, #sk-container-id-4 div.sk-parallel-item::before {content: \"\";position: absolute;border-left: 1px solid gray;box-sizing: border-box;top: 0;bottom: 0;left: 50%;z-index: -1;}#sk-container-id-4 div.sk-parallel-item {display: flex;flex-direction: column;z-index: 1;position: relative;background-color: white;}#sk-container-id-4 div.sk-parallel-item:first-child::after {align-self: flex-end;width: 50%;}#sk-container-id-4 div.sk-parallel-item:last-child::after {align-self: flex-start;width: 50%;}#sk-container-id-4 div.sk-parallel-item:only-child::after {width: 0;}#sk-container-id-4 div.sk-dashed-wrapped {border: 1px dashed gray;margin: 0 0.4em 0.5em 0.4em;box-sizing: border-box;padding-bottom: 0.4em;background-color: white;}#sk-container-id-4 div.sk-label label {font-family: monospace;font-weight: bold;display: inline-block;line-height: 1.2em;}#sk-container-id-4 div.sk-label-container {text-align: center;}#sk-container-id-4 div.sk-container {/* jupyter's `normalize.less` sets `[hidden] { display: none; }` but bootstrap.min.css set `[hidden] { display: none !important; }` so we also need the `!important` here to be able to override the default hidden behavior on the sphinx rendered scikit-learn.org. See: https://github.com/scikit-learn/scikit-learn/issues/21755 */display: inline-block !important;position: relative;}#sk-container-id-4 div.sk-text-repr-fallback {display: none;}</style><div id=\"sk-container-id-4\" class=\"sk-top-container\"><div class=\"sk-text-repr-fallback\"><pre>KNeighborsClassifier()</pre><b>In a Jupyter environment, please rerun this cell to show the HTML representation or trust the notebook. <br />On GitHub, the HTML representation is unable to render, please try loading this page with nbviewer.org.</b></div><div class=\"sk-container\" hidden><div class=\"sk-item\"><div class=\"sk-estimator sk-toggleable\"><input class=\"sk-toggleable__control sk-hidden--visually\" id=\"sk-estimator-id-4\" type=\"checkbox\" checked><label for=\"sk-estimator-id-4\" class=\"sk-toggleable__label sk-toggleable__label-arrow\">KNeighborsClassifier</label><div class=\"sk-toggleable__content\"><pre>KNeighborsClassifier()</pre></div></div></div></div></div>"
            ]
          },
          "metadata": {},
          "execution_count": 59
        }
      ],
      "source": [
        "# Classification the document with KNN classifier\n",
        "modelknn = KNeighborsClassifier(n_neighbors=5)\n",
        "modelknn.fit(X,y_train)\n",
        "\n"
      ]
    },
    {
      "cell_type": "code",
      "source": [
        "# Clustering the training 30 sentences with K-means technique\n",
        "modelkmeans = KMeans(n_clusters=3, init='k-means++', max_iter=200, n_init=100)\n",
        "modelkmeans.fit(X)"
      ],
      "metadata": {
        "colab": {
          "base_uri": "https://localhost:8080/",
          "height": 74
        },
        "id": "1G-bbOnFE8WQ",
        "outputId": "271ad678-6a58-455f-eb2e-87000af1d731"
      },
      "execution_count": 60,
      "outputs": [
        {
          "output_type": "execute_result",
          "data": {
            "text/plain": [
              "KMeans(max_iter=200, n_clusters=3, n_init=100)"
            ],
            "text/html": [
              "<style>#sk-container-id-5 {color: black;background-color: white;}#sk-container-id-5 pre{padding: 0;}#sk-container-id-5 div.sk-toggleable {background-color: white;}#sk-container-id-5 label.sk-toggleable__label {cursor: pointer;display: block;width: 100%;margin-bottom: 0;padding: 0.3em;box-sizing: border-box;text-align: center;}#sk-container-id-5 label.sk-toggleable__label-arrow:before {content: \"▸\";float: left;margin-right: 0.25em;color: #696969;}#sk-container-id-5 label.sk-toggleable__label-arrow:hover:before {color: black;}#sk-container-id-5 div.sk-estimator:hover label.sk-toggleable__label-arrow:before {color: black;}#sk-container-id-5 div.sk-toggleable__content {max-height: 0;max-width: 0;overflow: hidden;text-align: left;background-color: #f0f8ff;}#sk-container-id-5 div.sk-toggleable__content pre {margin: 0.2em;color: black;border-radius: 0.25em;background-color: #f0f8ff;}#sk-container-id-5 input.sk-toggleable__control:checked~div.sk-toggleable__content {max-height: 200px;max-width: 100%;overflow: auto;}#sk-container-id-5 input.sk-toggleable__control:checked~label.sk-toggleable__label-arrow:before {content: \"▾\";}#sk-container-id-5 div.sk-estimator input.sk-toggleable__control:checked~label.sk-toggleable__label {background-color: #d4ebff;}#sk-container-id-5 div.sk-label input.sk-toggleable__control:checked~label.sk-toggleable__label {background-color: #d4ebff;}#sk-container-id-5 input.sk-hidden--visually {border: 0;clip: rect(1px 1px 1px 1px);clip: rect(1px, 1px, 1px, 1px);height: 1px;margin: -1px;overflow: hidden;padding: 0;position: absolute;width: 1px;}#sk-container-id-5 div.sk-estimator {font-family: monospace;background-color: #f0f8ff;border: 1px dotted black;border-radius: 0.25em;box-sizing: border-box;margin-bottom: 0.5em;}#sk-container-id-5 div.sk-estimator:hover {background-color: #d4ebff;}#sk-container-id-5 div.sk-parallel-item::after {content: \"\";width: 100%;border-bottom: 1px solid gray;flex-grow: 1;}#sk-container-id-5 div.sk-label:hover label.sk-toggleable__label {background-color: #d4ebff;}#sk-container-id-5 div.sk-serial::before {content: \"\";position: absolute;border-left: 1px solid gray;box-sizing: border-box;top: 0;bottom: 0;left: 50%;z-index: 0;}#sk-container-id-5 div.sk-serial {display: flex;flex-direction: column;align-items: center;background-color: white;padding-right: 0.2em;padding-left: 0.2em;position: relative;}#sk-container-id-5 div.sk-item {position: relative;z-index: 1;}#sk-container-id-5 div.sk-parallel {display: flex;align-items: stretch;justify-content: center;background-color: white;position: relative;}#sk-container-id-5 div.sk-item::before, #sk-container-id-5 div.sk-parallel-item::before {content: \"\";position: absolute;border-left: 1px solid gray;box-sizing: border-box;top: 0;bottom: 0;left: 50%;z-index: -1;}#sk-container-id-5 div.sk-parallel-item {display: flex;flex-direction: column;z-index: 1;position: relative;background-color: white;}#sk-container-id-5 div.sk-parallel-item:first-child::after {align-self: flex-end;width: 50%;}#sk-container-id-5 div.sk-parallel-item:last-child::after {align-self: flex-start;width: 50%;}#sk-container-id-5 div.sk-parallel-item:only-child::after {width: 0;}#sk-container-id-5 div.sk-dashed-wrapped {border: 1px dashed gray;margin: 0 0.4em 0.5em 0.4em;box-sizing: border-box;padding-bottom: 0.4em;background-color: white;}#sk-container-id-5 div.sk-label label {font-family: monospace;font-weight: bold;display: inline-block;line-height: 1.2em;}#sk-container-id-5 div.sk-label-container {text-align: center;}#sk-container-id-5 div.sk-container {/* jupyter's `normalize.less` sets `[hidden] { display: none; }` but bootstrap.min.css set `[hidden] { display: none !important; }` so we also need the `!important` here to be able to override the default hidden behavior on the sphinx rendered scikit-learn.org. See: https://github.com/scikit-learn/scikit-learn/issues/21755 */display: inline-block !important;position: relative;}#sk-container-id-5 div.sk-text-repr-fallback {display: none;}</style><div id=\"sk-container-id-5\" class=\"sk-top-container\"><div class=\"sk-text-repr-fallback\"><pre>KMeans(max_iter=200, n_clusters=3, n_init=100)</pre><b>In a Jupyter environment, please rerun this cell to show the HTML representation or trust the notebook. <br />On GitHub, the HTML representation is unable to render, please try loading this page with nbviewer.org.</b></div><div class=\"sk-container\" hidden><div class=\"sk-item\"><div class=\"sk-estimator sk-toggleable\"><input class=\"sk-toggleable__control sk-hidden--visually\" id=\"sk-estimator-id-5\" type=\"checkbox\" checked><label for=\"sk-estimator-id-5\" class=\"sk-toggleable__label sk-toggleable__label-arrow\">KMeans</label><div class=\"sk-toggleable__content\"><pre>KMeans(max_iter=200, n_clusters=3, n_init=100)</pre></div></div></div></div></div>"
            ]
          },
          "metadata": {},
          "execution_count": 60
        }
      ]
    },
    {
      "cell_type": "markdown",
      "metadata": {
        "id": "4AmkPxq3UQQg"
      },
      "source": [
        "Testing on Unseen Texts.\n",
        "\n",
        "---\n",
        "This is to test the trained model. It is tested using 3 text sentences.\n"
      ]
    },
    {
      "cell_type": "code",
      "execution_count": 61,
      "metadata": {
        "colab": {
          "base_uri": "https://localhost:8080/"
        },
        "id": "yVukyhYgUZNo",
        "outputId": "545e5b79-6fb9-47ae-b1ac-588859f8cfed"
      },
      "outputs": [
        {
          "output_type": "stream",
          "name": "stdout",
          "text": [
            "\n",
            "Below 3 sentences will be predicted against the learned nieghbourhood and learned clusters:\n",
            "1.  Chemical compunds are used for preparing bombs based on some reactions \n",
            "2.  Cricket is a boring game where the batsman only enjoys the game \n",
            "3.  Machine learning is a area of Artificial intelligence\n",
            "\n",
            "-------------------------------PREDICTIONS BY KNN------------------------------------------\n",
            "\n",
            " Chemical compunds are used for preparing bombs based on some reactions : Chemistry \n",
            " Cricket is a boring game where the batsman only enjoys the game : Cricket \n",
            " Machine learning is a area of Artificial intelligence : AI\n",
            "\n",
            "-------------------------------PREDICTIONS BY K-Means--------------------------------------\n",
            "\n",
            "Index of Cricket cluster :  2\n",
            "Index of Artificial Intelligence cluster :  0\n",
            "Index of Chemistry cluster :  1\n",
            "\n",
            " Chemical compunds are used for preparing bombs based on some reactions : 1 \n",
            " Cricket is a boring game where the batsman only enjoys the game : 2 \n",
            " Machine learning is a area of Artificial intelligence : 0\n"
          ]
        },
        {
          "output_type": "stream",
          "name": "stderr",
          "text": [
            "<ipython-input-61-64aad570e0a7>:24: DeprecationWarning: `np.int` is a deprecated alias for the builtin `int`. To silence this warning, use `int` by itself. Doing this will not modify any behavior and is safe. When replacing `np.int`, you may wish to use e.g. `np.int64` or `np.int32` to specify the precision. If you wish to review your current use, check the release note link for additional information.\n",
            "Deprecated in NumPy 1.20; for more details and guidance: https://numpy.org/devdocs/release/1.20.0-notes.html#deprecations\n",
            "  print (\"\\n\",test_sentences[0],\":\",true_test_labels[np.int(predicted_labels_knn[0])],\\\n",
            "<ipython-input-61-64aad570e0a7>:25: DeprecationWarning: `np.int` is a deprecated alias for the builtin `int`. To silence this warning, use `int` by itself. Doing this will not modify any behavior and is safe. When replacing `np.int`, you may wish to use e.g. `np.int64` or `np.int32` to specify the precision. If you wish to review your current use, check the release note link for additional information.\n",
            "Deprecated in NumPy 1.20; for more details and guidance: https://numpy.org/devdocs/release/1.20.0-notes.html#deprecations\n",
            "  \"\\n\",test_sentences[1],\":\",true_test_labels[np.int(predicted_labels_knn[1])],\\\n",
            "<ipython-input-61-64aad570e0a7>:26: DeprecationWarning: `np.int` is a deprecated alias for the builtin `int`. To silence this warning, use `int` by itself. Doing this will not modify any behavior and is safe. When replacing `np.int`, you may wish to use e.g. `np.int64` or `np.int32` to specify the precision. If you wish to review your current use, check the release note link for additional information.\n",
            "Deprecated in NumPy 1.20; for more details and guidance: https://numpy.org/devdocs/release/1.20.0-notes.html#deprecations\n",
            "  \"\\n\",test_sentences[2],\":\",true_test_labels[np.int(predicted_labels_knn[2])])\n"
          ]
        }
      ],
      "source": [
        "# Predicting it on test data : Testing Phase\n",
        "test_sentences = [\"Chemical compunds are used for preparing bombs based on some reactions\",\\\n",
        "\"Cricket is a boring game where the batsman only enjoys the game\",\\\n",
        "\"Machine learning is a area of Artificial intelligence\"]\n",
        "\n",
        "test_clean_sentence = []\n",
        "for test in test_sentences:\n",
        "  cleaned_test = clean(test)\n",
        "  cleaned = ' '.join(cleaned_test)\n",
        "  cleaned = re.sub(r\"\\d+\",\"\",cleaned)\n",
        "  test_clean_sentence.append(cleaned)\n",
        "\n",
        "Test = vectorizer.transform(test_clean_sentence)\n",
        "\n",
        "true_test_labels = ['Cricket','AI','Chemistry']\n",
        "#classification\n",
        "predicted_labels_knn = modelknn.predict(Test)\n",
        "#clustering\n",
        "predicted_labels_kmeans = modelkmeans.predict(Test)\n",
        "\n",
        "print (\"\\nBelow 3 sentences will be predicted against the learned nieghbourhood and learned clusters:\\n1. \",\\\n",
        "test_sentences[0],\"\\n2. \",test_sentences[1],\"\\n3. \",test_sentences[2])\n",
        "print (\"\\n-------------------------------PREDICTIONS BY KNN------------------------------------------\")\n",
        "print (\"\\n\",test_sentences[0],\":\",true_test_labels[np.int(predicted_labels_knn[0])],\\\n",
        "\"\\n\",test_sentences[1],\":\",true_test_labels[np.int(predicted_labels_knn[1])],\\\n",
        "\"\\n\",test_sentences[2],\":\",true_test_labels[np.int(predicted_labels_knn[2])])\n",
        "\n",
        "print (\"\\n-------------------------------PREDICTIONS BY K-Means--------------------------------------\")\n",
        "print (\"\\nIndex of Cricket cluster : \",Counter(modelkmeans.labels_[0:10]).most_common(1)[0][0])\n",
        "print (\"Index of Artificial Intelligence cluster : \",Counter(modelkmeans.labels_[10:20]).most_common(1)[0][0])\n",
        "print (\"Index of Chemistry cluster : \",Counter(modelkmeans.labels_[20:30]).most_common(1)[0][0])\n",
        "\n",
        "print (\"\\n\",test_sentences[0],\":\",predicted_labels_kmeans[0],\\\n",
        "\"\\n\",test_sentences[1],\":\",predicted_labels_kmeans[1],\\\n",
        "\"\\n\",test_sentences[2],\":\",predicted_labels_kmeans[2])"
      ]
    },
    {
      "cell_type": "markdown",
      "metadata": {
        "id": "A_QZAVhHpZU_"
      },
      "source": [
        "From the output above, we can see that all of the 3 sentences tested are correctly clustered and classified into categories."
      ]
    }
  ],
  "metadata": {
    "colab": {
      "provenance": [],
      "include_colab_link": true
    },
    "kernelspec": {
      "display_name": "Python 3",
      "name": "python3"
    },
    "language_info": {
      "name": "python"
    }
  },
  "nbformat": 4,
  "nbformat_minor": 0
}